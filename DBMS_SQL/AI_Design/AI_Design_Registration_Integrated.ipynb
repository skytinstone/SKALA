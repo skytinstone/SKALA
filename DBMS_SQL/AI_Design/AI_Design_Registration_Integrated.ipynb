# AI 설계안 등록 통합 실습 (FastAPI + Streamlit + PostgreSQL)

## FastAPI 서버 (app.py)
from fastapi import FastAPI, HTTPException
from pydantic import BaseModel
from sentence_transformers import SentenceTransformer
import psycopg2

app = FastAPI()
model = SentenceTransformer('all-MiniLM-L6-v2')

def get_db_conn():
    return psycopg2.connect(
        dbname="yourdb", user="youruser", password="yourpass", host="localhost"
    )

class DesignInput(BaseModel):
    title: str
    description: str

@app.post("/register_design")
def register_design(data: DesignInput):
    conn = get_db_conn()
    cur = conn.cursor()
    try:
        embedding = model.encode(data.description).tolist()
        cur.execute("BEGIN;")
        cur.execute("""
            INSERT INTO design (title, description, embedding)
            VALUES (%s, %s, %s);
        """, (data.title, data.description, embedding))
        conn.commit()
        return {"status": "success", "message": "등록 완료"}
    except Exception as e:
        conn.rollback()
        raise HTTPException(status_code=500, detail=f"등록 실패: {str(e)}")
    finally:
        cur.close()
        conn.close()


## Streamlit 클라이언트 (streamlit_client.py)
import streamlit as st
import requests

st.title("AI 설계안 등록")

title = st.text_input("설계안 제목")
description = st.text_area("설계안 설명")

if st.button("등록 요청"):
    response = requests.post("http://localhost:8000/register_design", json={
        "title": title,
        "description": description
    })
    if response.status_code == 200:
        st.success(response.json()["message"])
    else:
        st.error(response.json()["detail"])


## 실행 순서 요약
1. PostgreSQL에 `design` 테이블 생성
2. FastAPI 서버 실행: `uvicorn app:app --reload`
3. Streamlit 클라이언트 실행: `streamlit run streamlit_client.py`
4. 입력 → POST → 등록 확인


## 테스트용 CSV & SQL 삽입 예제
- `sample_designs_500.csv`: 샘플 설계안 + 임베딩 포함
- `insert_designs.sql`: INSERT 문 자동 생성

**Tip**: Python에서 `psycopg2`로 임베딩 포함 대량 INSERT 가능